{
  "cells": [
    {
      "cell_type": "markdown",
      "metadata": {
        "id": "view-in-github",
        "colab_type": "text"
      },
      "source": [
        "<a href=\"https://colab.research.google.com/github/michaelbram10/Case-Study-02-Data-Mining---Customer-Segmentation---Ganjil-2022---Kelompok-3/blob/main/Case_Study_02_Data_Mining_Customer_Segmentation_Ganjil_2022_Kelompok_3.ipynb\" target=\"_parent\"><img src=\"https://colab.research.google.com/assets/colab-badge.svg\" alt=\"Open In Colab\"/></a>"
      ]
    },
    {
      "cell_type": "markdown",
      "id": "4380d15f",
      "metadata": {
        "id": "4380d15f"
      },
      "source": [
        "# Study Case 02 - Data Mining dan Business Intelligence : Customer Segmentation untuk MixITup Ice Cream\n",
        "\n",
        "**Kelompok 3 :**\n",
        "1. Michael Mario Bramanthyo Adhi    (1906299534) (Ketua)\n",
        "2. Amanda Sarah Ivana               (1906375814)\n",
        "3. Divina Fatriandira               (1906299465)\n",
        "4. Eslim Suyangsu                   (1906299471)\n",
        "5. Hunaiva Kintan                   (1906375695)\n",
        "6. Karin Marshanda                  (1906299515)\n",
        "7. Rosyda Hanavania                 (1906299566)\n",
        "8. Zalfa Nurfadhilah Haris          (1906305291)"
      ]
    },
    {
      "cell_type": "markdown",
      "id": "a1d0c0a2",
      "metadata": {
        "id": "a1d0c0a2"
      },
      "source": [
        "## Kasus: MixITUp Ice Cream\n",
        "- **MixITup** adalah perusahaan rintisan yang dimotori para anak muda yang bergerak di bidang usaha Ice Cream, Boba Drinks, dan Desserts (snacks) \\\n",
        "  Saat ini MixITup memiliki 3 cabang di Jakarta, Depok, dan Tangerang. MixITup mendapat respon positif di masyarakat, antrian dine-in dan pesan-antar produk MixITup melebihi kapasitas pelayanan. \\\n",
        "  Bulan lalu MixITup mendapatkan pendanaan seri B sebesar Rp. 33 Milyar,- \\\n",
        "  Rencananya MixITup ingin \"scale\" business-nya ke kota lain dan melakukan massive marketing. \n",
        "\n",
        "- Melalui iming-iming diskon 5% untuk beberapa item di tokonya dan pembagian voucher promo diskon, MixITup berhasil mengumpulkan data pelanggan melalui kartu membernya (loyality program). \\\n",
        "  Anda adalah Data Analyst junior di MixITup, tugas anda adalah melakukan proses Data Mining dan memberikan informasi/insight dan saran/rekomendasi/strategi ke perusahaan via data."
      ]
    },
    {
      "cell_type": "markdown",
      "id": "0d0ffdd7",
      "metadata": {
        "id": "0d0ffdd7"
      },
      "source": [
        "## Petunjuk\n",
        "*Catatan:*\t\n",
        "0-\tMixITup belum memiliki Data Engineer, file yang diberikan oleh perusahaan akan bertipe/format \"Excel\"!!!...\n",
        "\tWarning … Karena file berbentuk Excel anda harus menyiapkan mekanisme agar file tersebut dapat di load secara automatis ketika Jupyter Notebook and di \"Run-All\" oleh dosen (misal merubah ke csv dan upload ke GitHub).\\\n",
        "1-\tTentukan ketua kelompok, silahkan mulai fikirkan strategi pembagian kerja kelompoknya.\\\n",
        "2-\tSemua menyiapkan Akun GitHub dan aplikasi GitHub Desktop (silahkan latihan menggunakan GitHub).\\\n",
        "3-\tPelajari dengan baik semua materi sebelumnya, latihan dengan data yang ada atau yang baru\\\n",
        "4-\tGunakan akumulasi semua pengetahuan/skill yang telah dipelajari sebelumnya untuk menjawab kasus saat ini.\\\n",
        "5-\tSaat membuat laporan pengolahan data case study nanti, bayangkan kalian sedang bekerja di sebuah perusahaan sebagai Data Analyst dan membuat laporan ke atasan (bukan dosen). Perhatikan dengan baik narasi/kalimat yang digunakan dalam mengambil kesimpulan dan membuat rekomendasi.\\\n",
        "6-\tYakinkan Code anda dapat di \"Run-All\" oleh dosen di Google colaboratory.\\\n",
        "7-\tYakinkan anda memberikan informasi/insight serta rekomendasi/strategi Non-Trivial sebanyak-banyaknya\\\n",
        "8-\tYakinkan ada kesimpulan akhir (penutup) di bagian paling bawah \"ipynb\" anda."
      ]
    },
    {
      "cell_type": "markdown",
      "id": "a871b9d4",
      "metadata": {
        "id": "a871b9d4"
      },
      "source": [
        "## 1. Preparation"
      ]
    },
    {
      "cell_type": "markdown",
      "id": "ed7ab155",
      "metadata": {
        "id": "ed7ab155"
      },
      "source": [
        "### 1.1 Libraries and Utilities"
      ]
    },
    {
      "cell_type": "code",
      "execution_count": null,
      "id": "d4eccaa6",
      "metadata": {
        "id": "d4eccaa6"
      },
      "outputs": [],
      "source": [
        "#Data Manipulatiom\n",
        "import pandas as pd\n",
        "import numpy as np\n",
        "import sklearn\n",
        "import scipy\n",
        "\n",
        "#Visualization\n",
        "import seaborn as sns           \n",
        "import matplotlib.pyplot as plt \n",
        "%matplotlib inline \n",
        "sns.set(color_codes=True)\n",
        "\n",
        "#Modelling\n",
        "from imblearn import under_sampling, over_sampling\n",
        "from sklearn.model_selection import train_test_split\n",
        "from sklearn import preprocessing\n",
        "from sklearn.metrics import accuracy_score, classification_report, confusion_matrix\n",
        "from matplotlib import pyplot as plt\n",
        "from sklearn.preprocessing import StandardScaler \n",
        "from sklearn.linear_model import LogisticRegression\n",
        "from sklearn.ensemble import RandomForestClassifier\n",
        "from sklearn.tree import DecisionTreeClassifier\n",
        "from sklearn.neighbors import KNeighborsClassifier\n",
        "from sklearn.metrics import accuracy_score \n",
        "from sklearn.metrics import roc_auc_score\n",
        "np.random.seed(1234)\n",
        "from catboost import CatBoostClassifier\n",
        "from lightgbm import LGBMClassifier\n",
        "from sklearn.model_selection import cross_val_score\n",
        "from sklearn.pipeline import Pipeline\n",
        "from sklearn.feature_selection import RFE\n",
        "from sklearn.model_selection import RepeatedStratifiedKFold"
      ]
    },
    {
      "cell_type": "markdown",
      "id": "19acf464",
      "metadata": {
        "id": "19acf464"
      },
      "source": [
        "### 1.2 Data Loading"
      ]
    },
    {
      "cell_type": "markdown",
      "id": "29f65d87",
      "metadata": {
        "id": "29f65d87"
      },
      "source": [
        "### Import Data"
      ]
    },
    {
      "cell_type": "code",
      "execution_count": null,
      "id": "5448aa7e",
      "metadata": {
        "id": "5448aa7e"
      },
      "outputs": [],
      "source": [
        "# Loading Data:\n",
        "df = pd.read_csv(r\"C:\\Users\\USER\\SEMESTER 7\\Data Mining\\Study Case 02 - Customer Segmentation\\Case-Study-02.csv\", low_memory = False, encoding='utf8')  "
      ]
    },
    {
      "cell_type": "code",
      "execution_count": null,
      "id": "e2ec2889",
      "metadata": {
        "id": "e2ec2889",
        "outputId": "f100d880-dd2e-44a8-9f26-29c97865bacb"
      },
      "outputs": [
        {
          "data": {
            "text/html": [
              "<div>\n",
              "<style scoped>\n",
              "    .dataframe tbody tr th:only-of-type {\n",
              "        vertical-align: middle;\n",
              "    }\n",
              "\n",
              "    .dataframe tbody tr th {\n",
              "        vertical-align: top;\n",
              "    }\n",
              "\n",
              "    .dataframe thead th {\n",
              "        text-align: right;\n",
              "    }\n",
              "</style>\n",
              "<table border=\"1\" class=\"dataframe\">\n",
              "  <thead>\n",
              "    <tr style=\"text-align: right;\">\n",
              "      <th></th>\n",
              "      <th>ID</th>\n",
              "      <th>Jenis Kelamin</th>\n",
              "      <th>Umur</th>\n",
              "      <th>Pendapatan-per-bulan</th>\n",
              "      <th>skor-pengeluaran</th>\n",
              "      <th>Menikah</th>\n",
              "      <th>Kota</th>\n",
              "      <th>Promo</th>\n",
              "      <th>HariFav</th>\n",
              "      <th>FavFlavor</th>\n",
              "    </tr>\n",
              "  </thead>\n",
              "  <tbody>\n",
              "    <tr>\n",
              "      <th>0</th>\n",
              "      <td>101</td>\n",
              "      <td>Wanita</td>\n",
              "      <td>49.0</td>\n",
              "      <td>13114754.0</td>\n",
              "      <td>52</td>\n",
              "      <td>1</td>\n",
              "      <td>Jakarta</td>\n",
              "      <td>1.0</td>\n",
              "      <td>Sabtu</td>\n",
              "      <td>2</td>\n",
              "    </tr>\n",
              "    <tr>\n",
              "      <th>1</th>\n",
              "      <td>102</td>\n",
              "      <td>Wanita</td>\n",
              "      <td>32.0</td>\n",
              "      <td>33606557.0</td>\n",
              "      <td>86</td>\n",
              "      <td>1</td>\n",
              "      <td>Depok</td>\n",
              "      <td>1.0</td>\n",
              "      <td>Minggu</td>\n",
              "      <td>6</td>\n",
              "    </tr>\n",
              "    <tr>\n",
              "      <th>2</th>\n",
              "      <td>103</td>\n",
              "      <td>Pria</td>\n",
              "      <td>51.0</td>\n",
              "      <td>15983606.0</td>\n",
              "      <td>41</td>\n",
              "      <td>1</td>\n",
              "      <td>Jakarta</td>\n",
              "      <td>2.0</td>\n",
              "      <td>Minggu</td>\n",
              "      <td>3</td>\n",
              "    </tr>\n",
              "    <tr>\n",
              "      <th>3</th>\n",
              "      <td>104</td>\n",
              "      <td>Pria</td>\n",
              "      <td>19.0</td>\n",
              "      <td>12704918.0</td>\n",
              "      <td>55</td>\n",
              "      <td>0</td>\n",
              "      <td>Jakarta</td>\n",
              "      <td>1.0</td>\n",
              "      <td>Rabu</td>\n",
              "      <td>7</td>\n",
              "    </tr>\n",
              "    <tr>\n",
              "      <th>4</th>\n",
              "      <td>105</td>\n",
              "      <td>Wanita</td>\n",
              "      <td>38.0</td>\n",
              "      <td>20081967.0</td>\n",
              "      <td>42</td>\n",
              "      <td>1</td>\n",
              "      <td>Jakarta</td>\n",
              "      <td>2.0</td>\n",
              "      <td>Senin</td>\n",
              "      <td>8</td>\n",
              "    </tr>\n",
              "  </tbody>\n",
              "</table>\n",
              "</div>"
            ],
            "text/plain": [
              "    ID Jenis Kelamin  Umur  Pendapatan-per-bulan  skor-pengeluaran Menikah  \\\n",
              "0  101        Wanita  49.0            13114754.0                52       1   \n",
              "1  102        Wanita  32.0            33606557.0                86       1   \n",
              "2  103          Pria  51.0            15983606.0                41       1   \n",
              "3  104          Pria  19.0            12704918.0                55       0   \n",
              "4  105        Wanita  38.0            20081967.0                42       1   \n",
              "\n",
              "      Kota  Promo HariFav  FavFlavor  \n",
              "0  Jakarta    1.0   Sabtu          2  \n",
              "1    Depok    1.0  Minggu          6  \n",
              "2  Jakarta    2.0  Minggu          3  \n",
              "3  Jakarta    1.0    Rabu          7  \n",
              "4  Jakarta    2.0   Senin          8  "
            ]
          },
          "execution_count": 3,
          "metadata": {},
          "output_type": "execute_result"
        }
      ],
      "source": [
        "df.head()"
      ]
    },
    {
      "cell_type": "code",
      "execution_count": null,
      "id": "f6245c21",
      "metadata": {
        "id": "f6245c21",
        "outputId": "7848df14-0648-4a78-fc37-0758823c7658"
      },
      "outputs": [
        {
          "data": {
            "text/html": [
              "<div>\n",
              "<style scoped>\n",
              "    .dataframe tbody tr th:only-of-type {\n",
              "        vertical-align: middle;\n",
              "    }\n",
              "\n",
              "    .dataframe tbody tr th {\n",
              "        vertical-align: top;\n",
              "    }\n",
              "\n",
              "    .dataframe thead th {\n",
              "        text-align: right;\n",
              "    }\n",
              "</style>\n",
              "<table border=\"1\" class=\"dataframe\">\n",
              "  <thead>\n",
              "    <tr style=\"text-align: right;\">\n",
              "      <th></th>\n",
              "      <th>ID</th>\n",
              "      <th>Jenis Kelamin</th>\n",
              "      <th>Umur</th>\n",
              "      <th>Pendapatan-per-bulan</th>\n",
              "      <th>skor-pengeluaran</th>\n",
              "      <th>Menikah</th>\n",
              "      <th>Kota</th>\n",
              "      <th>Promo</th>\n",
              "      <th>HariFav</th>\n",
              "      <th>FavFlavor</th>\n",
              "    </tr>\n",
              "  </thead>\n",
              "  <tbody>\n",
              "    <tr>\n",
              "      <th>195</th>\n",
              "      <td>296</td>\n",
              "      <td>Pria</td>\n",
              "      <td>31.0</td>\n",
              "      <td>4098360.0</td>\n",
              "      <td>73</td>\n",
              "      <td>1</td>\n",
              "      <td>Depok</td>\n",
              "      <td>1.0</td>\n",
              "      <td>Senin</td>\n",
              "      <td>0</td>\n",
              "    </tr>\n",
              "    <tr>\n",
              "      <th>196</th>\n",
              "      <td>297</td>\n",
              "      <td>Pria</td>\n",
              "      <td>57.0</td>\n",
              "      <td>15983606.0</td>\n",
              "      <td>51</td>\n",
              "      <td>1</td>\n",
              "      <td>Jakarta</td>\n",
              "      <td>1.0</td>\n",
              "      <td>Minggu</td>\n",
              "      <td>5</td>\n",
              "    </tr>\n",
              "    <tr>\n",
              "      <th>197</th>\n",
              "      <td>298</td>\n",
              "      <td>Wanita</td>\n",
              "      <td>35.0</td>\n",
              "      <td>43032786.0</td>\n",
              "      <td>79</td>\n",
              "      <td>1</td>\n",
              "      <td>Depok</td>\n",
              "      <td>1.0</td>\n",
              "      <td>Senin</td>\n",
              "      <td>7</td>\n",
              "    </tr>\n",
              "    <tr>\n",
              "      <th>198</th>\n",
              "      <td>299</td>\n",
              "      <td>Wanita</td>\n",
              "      <td>23.0</td>\n",
              "      <td>1229508.0</td>\n",
              "      <td>94</td>\n",
              "      <td>1</td>\n",
              "      <td>Depok</td>\n",
              "      <td>0.0</td>\n",
              "      <td>Selasa</td>\n",
              "      <td>0</td>\n",
              "    </tr>\n",
              "    <tr>\n",
              "      <th>199</th>\n",
              "      <td>300</td>\n",
              "      <td>Pria</td>\n",
              "      <td>50.0</td>\n",
              "      <td>1639344.0</td>\n",
              "      <td>14</td>\n",
              "      <td>1</td>\n",
              "      <td>Tangerang</td>\n",
              "      <td>3.0</td>\n",
              "      <td>Minggu</td>\n",
              "      <td>6</td>\n",
              "    </tr>\n",
              "  </tbody>\n",
              "</table>\n",
              "</div>"
            ],
            "text/plain": [
              "      ID Jenis Kelamin  Umur  Pendapatan-per-bulan  skor-pengeluaran Menikah  \\\n",
              "195  296          Pria  31.0             4098360.0                73       1   \n",
              "196  297          Pria  57.0            15983606.0                51       1   \n",
              "197  298        Wanita  35.0            43032786.0                79       1   \n",
              "198  299        Wanita  23.0             1229508.0                94       1   \n",
              "199  300          Pria  50.0             1639344.0                14       1   \n",
              "\n",
              "          Kota  Promo HariFav  FavFlavor  \n",
              "195      Depok    1.0   Senin          0  \n",
              "196    Jakarta    1.0  Minggu          5  \n",
              "197      Depok    1.0   Senin          7  \n",
              "198      Depok    0.0  Selasa          0  \n",
              "199  Tangerang    3.0  Minggu          6  "
            ]
          },
          "execution_count": 4,
          "metadata": {},
          "output_type": "execute_result"
        }
      ],
      "source": [
        "df.tail()"
      ]
    },
    {
      "cell_type": "markdown",
      "id": "0974fd61",
      "metadata": {
        "id": "0974fd61"
      },
      "source": [
        "### 1.3 Data Understanding"
      ]
    },
    {
      "cell_type": "markdown",
      "id": "dfa2079a",
      "metadata": {
        "id": "dfa2079a"
      },
      "source": [
        "Keterangan variabel:\n",
        "- ID = ID customer, ditentukan lewat incremental value berdasarkan urutan kapan customer mendaftar loyality program\n",
        "- Jenis Kelamin = Pria, Wanita\n",
        "- Umur = Umur (dalam tahun)\n",
        "- Pendapatan per-bulan = Pendapatan Customer dalam sebulan (Rupiah)\n",
        "- Skor pengeluaran = Skor yang diberikan oleh MixITup untuk mengukur seberapa besar pengeluaran customer di MixITUp, Nilainya antara 0-100\n",
        "- Menikah = Status pernikahan customer (0: Belum Menikah, 1: Menikah)\n",
        "- Kota = Kota dimana customer mendafatarkan loyality programnya\n",
        "- Promo = Seberapa sering customer menggunakan promonya: 0 (tidak pernah), 1 (jarang), 2 (sedang), 3 (sering)\n",
        "- HariFav = Hari paling sering pelanggan menggunakan kartu loyality programnya.\n",
        "- FavFlavor = Rasa Ice Cream yang paling sering dipilih customer\n",
        "\t0. Vanilla\n",
        "\t1. Strawberry\n",
        "\t3. Cokelat\n",
        "\t4. BlueBerry\n",
        "\t5. BubbleGum/Cotton Candy\n",
        "\t6. Coconut\n",
        "\t7. Caramel Pecan\n",
        "\t8. Mix Flavors"
      ]
    },
    {
      "cell_type": "code",
      "execution_count": null,
      "id": "6ced0327",
      "metadata": {
        "id": "6ced0327",
        "outputId": "ec2fd663-1d03-49d6-fed9-890cdc8e836c"
      },
      "outputs": [
        {
          "data": {
            "text/plain": [
              "['ID',\n",
              " 'Jenis Kelamin',\n",
              " 'Umur',\n",
              " 'Pendapatan-per-bulan',\n",
              " 'skor-pengeluaran',\n",
              " 'Menikah',\n",
              " 'Kota',\n",
              " 'Promo',\n",
              " 'HariFav',\n",
              " 'FavFlavor']"
            ]
          },
          "execution_count": 5,
          "metadata": {},
          "output_type": "execute_result"
        }
      ],
      "source": [
        "list(df.columns)"
      ]
    },
    {
      "cell_type": "code",
      "execution_count": null,
      "id": "65617e58",
      "metadata": {
        "scrolled": true,
        "id": "65617e58",
        "outputId": "9ea2ae4c-216f-4448-faa7-9784cd502327"
      },
      "outputs": [
        {
          "data": {
            "text/plain": [
              "ID                        int64\n",
              "Jenis Kelamin            object\n",
              "Umur                    float64\n",
              "Pendapatan-per-bulan    float64\n",
              "skor-pengeluaran          int64\n",
              "Menikah                  object\n",
              "Kota                     object\n",
              "Promo                   float64\n",
              "HariFav                  object\n",
              "FavFlavor                 int64\n",
              "dtype: object"
            ]
          },
          "execution_count": 6,
          "metadata": {},
          "output_type": "execute_result"
        }
      ],
      "source": [
        "df.dtypes"
      ]
    },
    {
      "cell_type": "markdown",
      "id": "b0c304ca",
      "metadata": {
        "id": "b0c304ca"
      },
      "source": [
        "Pada variabel \"Umur\" terdapat salah satu data yang berbentuk \"35'\" sehingga menyebabkan variabel tersebut berbentuk kategorik. Setelah itu, kami atasi permasalahan tersebut dengan menghapus tanda petiknya (') dengan menggunakan bantuan Ms. Excel. "
      ]
    },
    {
      "cell_type": "markdown",
      "id": "e1224cf3",
      "metadata": {
        "id": "e1224cf3"
      },
      "source": [
        "### Pengelompokkan Kolom Berdasarkan Tipe Data"
      ]
    },
    {
      "cell_type": "code",
      "execution_count": null,
      "id": "fd24ebba",
      "metadata": {
        "scrolled": true,
        "id": "fd24ebba",
        "outputId": "6a5d37e2-fc44-482a-a2fc-6e12f3e7c1f6"
      },
      "outputs": [
        {
          "name": "stdout",
          "output_type": "stream",
          "text": [
            "Kolom bertipe Number (Integer/Float):\n",
            "\n",
            " [['ID', 'Umur', 'Pendapatan-per-bulan', 'skor-pengeluaran', 'Promo', 'FavFlavor']] \n",
            "\n",
            "Kolom bertipe Integer               :\n",
            " [['ID', 'skor-pengeluaran', 'FavFlavor']] \n",
            "\n",
            "Kolom bertipe Float                 :\n",
            " [['Umur', 'Pendapatan-per-bulan', 'Promo']] \n",
            "\n",
            "Kolom bertipe Object                :\n",
            "\n",
            " [['Jenis Kelamin', 'Menikah', 'Kota', 'HariFav']]\n"
          ]
        }
      ],
      "source": [
        "# melihat kolom dengan tipe data yang berbeda (number dan object)\n",
        "\n",
        "df_number = []\n",
        "df_int = []\n",
        "df_float = []\n",
        "df_object = []\n",
        "\n",
        "df_number.append(df.select_dtypes('number').columns.tolist()) # menampilkan nama kolom yang berisi data dengan tipe number\n",
        "df_int.append(df.select_dtypes('integer').columns.tolist()) # menampilkan nama kolom yang berisi data dengan tipe number\n",
        "df_float.append(df.select_dtypes('float').columns.tolist()) # menampilkan nama kolom yang berisi data dengan tipe number\n",
        "df_object.append(df.select_dtypes('object').columns.tolist()) # menampilkan nama kolom yang berisi data dengan tipe object\n",
        "\n",
        "print('Kolom bertipe Number (Integer/Float):\\n\\n',df_number,'\\n')\n",
        "print('Kolom bertipe Integer               :\\n',df_int,'\\n')\n",
        "print('Kolom bertipe Float                 :\\n',df_float,'\\n')\n",
        "print('Kolom bertipe Object                :\\n\\n',df_object)"
      ]
    },
    {
      "cell_type": "markdown",
      "id": "f5b84130",
      "metadata": {
        "id": "f5b84130"
      },
      "source": [
        "### Convert Integer to Float"
      ]
    },
    {
      "cell_type": "code",
      "execution_count": null,
      "id": "423dc79e",
      "metadata": {
        "id": "423dc79e",
        "outputId": "8a28b95a-63a5-4160-e8d7-8e9714416e45"
      },
      "outputs": [
        {
          "name": "stdout",
          "output_type": "stream",
          "text": [
            "Index(['ID', 'skor-pengeluaran', 'FavFlavor'], dtype='object')\n"
          ]
        }
      ],
      "source": [
        "#Feature yang data typenya integer\n",
        "df_int = df.select_dtypes(include='int').columns\n",
        "print(df_int)"
      ]
    },
    {
      "cell_type": "code",
      "execution_count": null,
      "id": "ec3bdf0e",
      "metadata": {
        "id": "ec3bdf0e"
      },
      "outputs": [],
      "source": [
        "df[df_int] = df[df_int].astype(float)"
      ]
    },
    {
      "cell_type": "code",
      "execution_count": null,
      "id": "167a67ee",
      "metadata": {
        "id": "167a67ee",
        "outputId": "84938b24-2adb-4212-ef17-3de41a048688"
      },
      "outputs": [
        {
          "name": "stdout",
          "output_type": "stream",
          "text": [
            "Index(['ID', 'Umur', 'Pendapatan-per-bulan', 'skor-pengeluaran', 'Promo',\n",
            "       'FavFlavor'],\n",
            "      dtype='object')\n"
          ]
        }
      ],
      "source": [
        "#Feature yang data typenya float\n",
        "df_float = df.select_dtypes(include='float').columns\n",
        "print(df_float)"
      ]
    },
    {
      "cell_type": "markdown",
      "id": "f418efc1",
      "metadata": {
        "id": "f418efc1"
      },
      "source": [
        "### Data Preprocessing"
      ]
    },
    {
      "cell_type": "code",
      "execution_count": null,
      "id": "23cf05a4",
      "metadata": {
        "id": "23cf05a4",
        "outputId": "8ecb3d0d-9a96-4187-cd43-718734d6cf73"
      },
      "outputs": [
        {
          "name": "stdout",
          "output_type": "stream",
          "text": [
            "Dimensi data awal : (200, 10)\n"
          ]
        }
      ],
      "source": [
        "# Total number of rows and columns\n",
        "print(\"Dimensi data awal :\", df.shape)\n",
        "# df.shape"
      ]
    },
    {
      "cell_type": "markdown",
      "id": "dfb704cf",
      "metadata": {
        "id": "dfb704cf"
      },
      "source": [
        "### Statistika Deskriptif"
      ]
    },
    {
      "cell_type": "code",
      "execution_count": null,
      "id": "5db388e1",
      "metadata": {
        "id": "5db388e1",
        "outputId": "9005b75c-5fac-4820-d92d-a76c39682f5d"
      },
      "outputs": [
        {
          "data": {
            "text/html": [
              "<div>\n",
              "<style scoped>\n",
              "    .dataframe tbody tr th:only-of-type {\n",
              "        vertical-align: middle;\n",
              "    }\n",
              "\n",
              "    .dataframe tbody tr th {\n",
              "        vertical-align: top;\n",
              "    }\n",
              "\n",
              "    .dataframe thead th {\n",
              "        text-align: right;\n",
              "    }\n",
              "</style>\n",
              "<table border=\"1\" class=\"dataframe\">\n",
              "  <thead>\n",
              "    <tr style=\"text-align: right;\">\n",
              "      <th></th>\n",
              "      <th>ID</th>\n",
              "      <th>Umur</th>\n",
              "      <th>Pendapatan-per-bulan</th>\n",
              "      <th>skor-pengeluaran</th>\n",
              "      <th>Promo</th>\n",
              "      <th>FavFlavor</th>\n",
              "    </tr>\n",
              "  </thead>\n",
              "  <tbody>\n",
              "    <tr>\n",
              "      <th>count</th>\n",
              "      <td>200.000000</td>\n",
              "      <td>200.000000</td>\n",
              "      <td>2.000000e+02</td>\n",
              "      <td>200.00000</td>\n",
              "      <td>194.000000</td>\n",
              "      <td>200.000000</td>\n",
              "    </tr>\n",
              "    <tr>\n",
              "      <th>mean</th>\n",
              "      <td>200.500000</td>\n",
              "      <td>37.355000</td>\n",
              "      <td>1.867213e+07</td>\n",
              "      <td>50.47000</td>\n",
              "      <td>1.685567</td>\n",
              "      <td>3.605000</td>\n",
              "    </tr>\n",
              "    <tr>\n",
              "      <th>std</th>\n",
              "      <td>57.879185</td>\n",
              "      <td>11.992417</td>\n",
              "      <td>1.076423e+07</td>\n",
              "      <td>26.07101</td>\n",
              "      <td>0.970603</td>\n",
              "      <td>2.743466</td>\n",
              "    </tr>\n",
              "    <tr>\n",
              "      <th>min</th>\n",
              "      <td>101.000000</td>\n",
              "      <td>2.000000</td>\n",
              "      <td>0.000000e+00</td>\n",
              "      <td>1.00000</td>\n",
              "      <td>0.000000</td>\n",
              "      <td>0.000000</td>\n",
              "    </tr>\n",
              "    <tr>\n",
              "      <th>25%</th>\n",
              "      <td>150.750000</td>\n",
              "      <td>28.750000</td>\n",
              "      <td>1.086066e+07</td>\n",
              "      <td>34.75000</td>\n",
              "      <td>1.000000</td>\n",
              "      <td>1.000000</td>\n",
              "    </tr>\n",
              "    <tr>\n",
              "      <th>50%</th>\n",
              "      <td>200.500000</td>\n",
              "      <td>36.000000</td>\n",
              "      <td>1.905738e+07</td>\n",
              "      <td>50.00000</td>\n",
              "      <td>1.000000</td>\n",
              "      <td>3.500000</td>\n",
              "    </tr>\n",
              "    <tr>\n",
              "      <th>75%</th>\n",
              "      <td>250.250000</td>\n",
              "      <td>48.000000</td>\n",
              "      <td>2.581967e+07</td>\n",
              "      <td>73.00000</td>\n",
              "      <td>3.000000</td>\n",
              "      <td>6.000000</td>\n",
              "    </tr>\n",
              "    <tr>\n",
              "      <th>max</th>\n",
              "      <td>300.000000</td>\n",
              "      <td>60.000000</td>\n",
              "      <td>5.000000e+07</td>\n",
              "      <td>101.00000</td>\n",
              "      <td>5.000000</td>\n",
              "      <td>9.000000</td>\n",
              "    </tr>\n",
              "  </tbody>\n",
              "</table>\n",
              "</div>"
            ],
            "text/plain": [
              "               ID        Umur  Pendapatan-per-bulan  skor-pengeluaran  \\\n",
              "count  200.000000  200.000000          2.000000e+02         200.00000   \n",
              "mean   200.500000   37.355000          1.867213e+07          50.47000   \n",
              "std     57.879185   11.992417          1.076423e+07          26.07101   \n",
              "min    101.000000    2.000000          0.000000e+00           1.00000   \n",
              "25%    150.750000   28.750000          1.086066e+07          34.75000   \n",
              "50%    200.500000   36.000000          1.905738e+07          50.00000   \n",
              "75%    250.250000   48.000000          2.581967e+07          73.00000   \n",
              "max    300.000000   60.000000          5.000000e+07         101.00000   \n",
              "\n",
              "            Promo   FavFlavor  \n",
              "count  194.000000  200.000000  \n",
              "mean     1.685567    3.605000  \n",
              "std      0.970603    2.743466  \n",
              "min      0.000000    0.000000  \n",
              "25%      1.000000    1.000000  \n",
              "50%      1.000000    3.500000  \n",
              "75%      3.000000    6.000000  \n",
              "max      5.000000    9.000000  "
            ]
          },
          "execution_count": 13,
          "metadata": {},
          "output_type": "execute_result"
        }
      ],
      "source": [
        "### Summary Statistics ###\n",
        "df.describe()"
      ]
    },
    {
      "cell_type": "markdown",
      "id": "2efcad7e",
      "metadata": {
        "id": "2efcad7e"
      },
      "source": [
        "### Handling Missing Value"
      ]
    },
    {
      "cell_type": "markdown",
      "id": "2f114d0b",
      "metadata": {
        "id": "2f114d0b"
      },
      "source": [
        "It is used to remove outliers and duplicates from the dataset. Moreover, it is a very common practice to scale the columns on a standard scale, it helps in faster convergence and gives better results."
      ]
    },
    {
      "cell_type": "code",
      "execution_count": null,
      "id": "27c25399",
      "metadata": {
        "id": "27c25399",
        "outputId": "756f7878-3b18-4269-b591-8b62aa1d2e7b"
      },
      "outputs": [
        {
          "data": {
            "text/plain": [
              "0"
            ]
          },
          "execution_count": 14,
          "metadata": {},
          "output_type": "execute_result"
        }
      ],
      "source": [
        "sum(df.duplicated())"
      ]
    },
    {
      "cell_type": "code",
      "execution_count": null,
      "id": "e0739637",
      "metadata": {
        "id": "e0739637",
        "outputId": "d1070996-4611-4024-9378-1c89f3b9321a"
      },
      "outputs": [
        {
          "name": "stdout",
          "output_type": "stream",
          "text": [
            "0\n",
            "(200, 10)\n"
          ]
        }
      ],
      "source": [
        "#Remove Duplicate\n",
        "df.drop_duplicates(inplace=True)\n",
        "print(df.duplicated().sum()) # no more duplicates\n",
        "print(df.shape) # re-check by printing data size"
      ]
    },
    {
      "cell_type": "markdown",
      "id": "3ff17568",
      "metadata": {
        "id": "3ff17568"
      },
      "source": [
        "tidak terdapat data duplikat di dalam data MixITUp"
      ]
    },
    {
      "cell_type": "markdown",
      "id": "9f35895a",
      "metadata": {
        "id": "9f35895a"
      },
      "source": [
        "### Memilih data object"
      ]
    },
    {
      "cell_type": "code",
      "execution_count": null,
      "id": "76fbefdc",
      "metadata": {
        "id": "76fbefdc",
        "outputId": "5c042404-7874-430b-855e-815feaf1610a"
      },
      "outputs": [
        {
          "name": "stdout",
          "output_type": "stream",
          "text": [
            "Index(['Jenis Kelamin', 'Menikah', 'Kota', 'HariFav'], dtype='object')\n"
          ]
        }
      ],
      "source": [
        "#Feature yang data typenya object\n",
        "df_object = df.select_dtypes(include='object').columns\n",
        "print(df_object)"
      ]
    },
    {
      "cell_type": "code",
      "execution_count": null,
      "id": "28cc1550",
      "metadata": {
        "scrolled": false,
        "id": "28cc1550",
        "outputId": "34e51fcb-4256-4924-fbb1-f39bd8aa5bc3"
      },
      "outputs": [
        {
          "data": {
            "text/plain": [
              "Jenis Kelamin    3\n",
              "Menikah          4\n",
              "Kota             3\n",
              "HariFav          7\n",
              "dtype: int64"
            ]
          },
          "execution_count": 17,
          "metadata": {},
          "output_type": "execute_result"
        }
      ],
      "source": [
        "obj = list(df_object)\n",
        "df[obj].nunique()"
      ]
    },
    {
      "cell_type": "markdown",
      "id": "4c129cd2",
      "metadata": {
        "id": "4c129cd2"
      },
      "source": [
        "### Memilih data numerik"
      ]
    },
    {
      "cell_type": "code",
      "execution_count": null,
      "id": "14d76a73",
      "metadata": {
        "id": "14d76a73",
        "outputId": "c6c71180-d6cf-4a72-d1e2-1d48a7ab7fde"
      },
      "outputs": [
        {
          "name": "stdout",
          "output_type": "stream",
          "text": [
            "Index(['ID', 'Umur', 'Pendapatan-per-bulan', 'skor-pengeluaran', 'Promo',\n",
            "       'FavFlavor'],\n",
            "      dtype='object')\n"
          ]
        }
      ],
      "source": [
        "#Setelah menghapus beberapa fitur numerik\n",
        "df_float = df.select_dtypes(include='float').columns\n",
        "print(df_float)"
      ]
    },
    {
      "cell_type": "markdown",
      "id": "5bb2d71c",
      "metadata": {
        "id": "5bb2d71c"
      },
      "source": [
        "### Drop Variabel yang Tidak Berguna"
      ]
    },
    {
      "cell_type": "code",
      "execution_count": null,
      "id": "9ea28ea4",
      "metadata": {
        "id": "9ea28ea4"
      },
      "outputs": [],
      "source": [
        "del df['ID']"
      ]
    },
    {
      "cell_type": "markdown",
      "id": "77b667f3",
      "metadata": {
        "id": "77b667f3"
      },
      "source": [
        "variabel ID yang mana merupakan ID customer (ditentukan lewat incremental value berdasarkan urutan kapan customer mendaftar loyality program) tidak berguna sehingga variabel ID akan dihapus"
      ]
    },
    {
      "cell_type": "code",
      "execution_count": null,
      "id": "e4dd917c",
      "metadata": {
        "id": "e4dd917c",
        "outputId": "175123de-c7f6-44d6-a5fd-4f6cf564f1d0"
      },
      "outputs": [
        {
          "name": "stdout",
          "output_type": "stream",
          "text": [
            "Index(['Umur', 'Pendapatan-per-bulan', 'skor-pengeluaran', 'Promo',\n",
            "       'FavFlavor'],\n",
            "      dtype='object')\n"
          ]
        }
      ],
      "source": [
        "#Setelah menghapus variabel\n",
        "df_float = df.select_dtypes(include='float').columns\n",
        "print(df_float)"
      ]
    },
    {
      "cell_type": "markdown",
      "id": "847e16d6",
      "metadata": {
        "id": "847e16d6"
      },
      "source": [
        "### Cek Missing Value"
      ]
    },
    {
      "cell_type": "code",
      "execution_count": null,
      "id": "3418b51a",
      "metadata": {
        "id": "3418b51a",
        "outputId": "063222b1-3114-4b7a-89c2-ecc74e48f484"
      },
      "outputs": [
        {
          "name": "stdout",
          "output_type": "stream",
          "text": [
            "Data Missing Value:\n",
            "\n",
            "                  Kolom  Jumlah Missing Value  Persentase Missing Value\n",
            "8             FavFlavor                     0                       0.0\n",
            "2  Pendapatan-per-bulan                     0                       0.0\n",
            "1                  Umur                     0                       0.0\n",
            "0         Jenis Kelamin                     4                       2.0\n",
            "7               HariFav                     0                       0.0 \n",
            "\n",
            "Persentase Missing Value Terbesar                  :  6.0\n",
            "Persentase Missing Value Keseluruhan               :  11.0\n",
            "Data Duplikat:\n",
            "\n",
            "Jumlah terdapat data duplikat pada data df         :  0 ( 0.0 % )\n"
          ]
        }
      ],
      "source": [
        "# Informasi Jumlah dan Persentase Missing Value\n",
        "\n",
        "## general\n",
        "\n",
        "df_mv = df.isnull().sum()                      # menampilkan jumlah total missing value per kolom\n",
        "df_pmv = (df.isnull().sum()/len(df))*100     # menampilkan persentase missing value per kolom\n",
        "\n",
        "df_missing = pd.concat([df_mv,df_pmv],axis = 1).reset_index() # menampilkan data dalam bentuk data frame\n",
        "\n",
        "df_missing.columns = ['Kolom','Jumlah Missing Value','Persentase Missing Value']\n",
        "missing_value = df_missing\n",
        "\n",
        "print('Data Missing Value:\\n')\n",
        "print(missing_value.sample(5),'\\n')\n",
        "print('Persentase Missing Value Terbesar                  : ',missing_value['Persentase Missing Value'].max())\n",
        "print('Persentase Missing Value Keseluruhan               : ',missing_value['Persentase Missing Value'].sum())\n",
        "\n",
        "\n",
        "print('Data Duplikat:\\n')\n",
        "print('Jumlah terdapat data duplikat pada data df         : ',df.duplicated().sum(), '(',(df.duplicated().sum()/len(df))*100,'%',')')"
      ]
    },
    {
      "cell_type": "markdown",
      "id": "2af5cacf",
      "metadata": {
        "id": "2af5cacf"
      },
      "source": [
        "Pada data MixITUp tidak terdapat data yang duplikat sehingga tidak perlu dilakukan penghapusan data duplikat"
      ]
    },
    {
      "cell_type": "code",
      "execution_count": null,
      "id": "96de969a",
      "metadata": {
        "id": "96de969a",
        "outputId": "c7f9f8ca-7fb9-410e-a5f9-c540ab49dd4f"
      },
      "outputs": [
        {
          "name": "stdout",
          "output_type": "stream",
          "text": [
            "Jumlah Data Missing Value:\n",
            "\n",
            "Jenis Kelamin            4\n",
            "Umur                     0\n",
            "Pendapatan-per-bulan     0\n",
            "skor-pengeluaran         0\n",
            "Menikah                 12\n",
            "Kota                     0\n",
            "Promo                    6\n",
            "HariFav                  0\n",
            "FavFlavor                0\n",
            "dtype: int64\n"
          ]
        }
      ],
      "source": [
        "print('Jumlah Data Missing Value:\\n')\n",
        "print(df.isnull().sum())"
      ]
    },
    {
      "cell_type": "code",
      "execution_count": null,
      "id": "0f39887c",
      "metadata": {
        "id": "0f39887c",
        "outputId": "39e1934d-cb8a-40e5-f896-2d005716b508"
      },
      "outputs": [
        {
          "data": {
            "text/plain": [
              "1    160\n",
              "0     26\n",
              "       1\n",
              "-      1\n",
              "Name: Menikah, dtype: int64"
            ]
          },
          "execution_count": 23,
          "metadata": {},
          "output_type": "execute_result"
        }
      ],
      "source": [
        "df.Menikah.value_counts()"
      ]
    },
    {
      "cell_type": "code",
      "execution_count": null,
      "id": "38c6edad",
      "metadata": {
        "id": "38c6edad"
      },
      "outputs": [],
      "source": [
        "df.dropna(subset=[\"Jenis Kelamin\"], axis=0, inplace=True)\n",
        "df.dropna(subset=[\"Promo\"], axis=0, inplace=True)"
      ]
    },
    {
      "cell_type": "markdown",
      "id": "ac03fb72",
      "metadata": {
        "id": "ac03fb72"
      },
      "source": [
        "akan dilakukan handling missing value terhadap data Jenis Kelamin dengan melakukan drop data yang missing pada variabel Jenis Kelamin karena total data missingnya ada 4 dari 200 atau 2% sehingga tidak terlalu mempengaruhi secara signifikan terhadap data keseluruhan. Selain itu, akan dilakukan handling missing value terhadap data Promo dengan melakukan drop data yang missing pada variabel Promo karena total data missingnya ada 6 dari 200 atau 3% sehingga tidak terlalu mempengaruhi secara signifikan terhadap data keseluruhan. Untuk missing value pada variabel Menikah tidak kami lakukan handling missing value karena variabel tersebut tidak kami gunakan dalam melakukan analisis"
      ]
    },
    {
      "cell_type": "code",
      "execution_count": null,
      "id": "113772de",
      "metadata": {
        "scrolled": true,
        "id": "113772de",
        "outputId": "941a83eb-e26d-4f4b-cddd-84439cf0425d"
      },
      "outputs": [
        {
          "name": "stdout",
          "output_type": "stream",
          "text": [
            "Jumlah Data Missing Value:\n",
            "\n",
            "Jenis Kelamin            0\n",
            "Umur                     0\n",
            "Pendapatan-per-bulan     0\n",
            "skor-pengeluaran         0\n",
            "Menikah                 12\n",
            "Kota                     0\n",
            "Promo                    0\n",
            "HariFav                  0\n",
            "FavFlavor                0\n",
            "dtype: int64\n"
          ]
        }
      ],
      "source": [
        "print('Jumlah Data Missing Value:\\n')\n",
        "print(df.isnull().sum())"
      ]
    },
    {
      "cell_type": "markdown",
      "id": "eca12ee0",
      "metadata": {
        "id": "eca12ee0"
      },
      "source": [
        "## Hasil data setelah di cleansing"
      ]
    },
    {
      "cell_type": "code",
      "execution_count": null,
      "id": "695a7abf",
      "metadata": {
        "id": "695a7abf",
        "outputId": "4f8f35ed-e1e3-4f37-dfd3-fb06aa3816e7"
      },
      "outputs": [
        {
          "data": {
            "text/html": [
              "<div>\n",
              "<style scoped>\n",
              "    .dataframe tbody tr th:only-of-type {\n",
              "        vertical-align: middle;\n",
              "    }\n",
              "\n",
              "    .dataframe tbody tr th {\n",
              "        vertical-align: top;\n",
              "    }\n",
              "\n",
              "    .dataframe thead th {\n",
              "        text-align: right;\n",
              "    }\n",
              "</style>\n",
              "<table border=\"1\" class=\"dataframe\">\n",
              "  <thead>\n",
              "    <tr style=\"text-align: right;\">\n",
              "      <th></th>\n",
              "      <th>Jenis Kelamin</th>\n",
              "      <th>Umur</th>\n",
              "      <th>Pendapatan-per-bulan</th>\n",
              "      <th>skor-pengeluaran</th>\n",
              "      <th>Menikah</th>\n",
              "      <th>Kota</th>\n",
              "      <th>Promo</th>\n",
              "      <th>HariFav</th>\n",
              "      <th>FavFlavor</th>\n",
              "    </tr>\n",
              "  </thead>\n",
              "  <tbody>\n",
              "    <tr>\n",
              "      <th>0</th>\n",
              "      <td>Wanita</td>\n",
              "      <td>49.0</td>\n",
              "      <td>13114754.0</td>\n",
              "      <td>52.0</td>\n",
              "      <td>1</td>\n",
              "      <td>Jakarta</td>\n",
              "      <td>1.0</td>\n",
              "      <td>Sabtu</td>\n",
              "      <td>2.0</td>\n",
              "    </tr>\n",
              "    <tr>\n",
              "      <th>1</th>\n",
              "      <td>Wanita</td>\n",
              "      <td>32.0</td>\n",
              "      <td>33606557.0</td>\n",
              "      <td>86.0</td>\n",
              "      <td>1</td>\n",
              "      <td>Depok</td>\n",
              "      <td>1.0</td>\n",
              "      <td>Minggu</td>\n",
              "      <td>6.0</td>\n",
              "    </tr>\n",
              "    <tr>\n",
              "      <th>2</th>\n",
              "      <td>Pria</td>\n",
              "      <td>51.0</td>\n",
              "      <td>15983606.0</td>\n",
              "      <td>41.0</td>\n",
              "      <td>1</td>\n",
              "      <td>Jakarta</td>\n",
              "      <td>2.0</td>\n",
              "      <td>Minggu</td>\n",
              "      <td>3.0</td>\n",
              "    </tr>\n",
              "    <tr>\n",
              "      <th>3</th>\n",
              "      <td>Pria</td>\n",
              "      <td>19.0</td>\n",
              "      <td>12704918.0</td>\n",
              "      <td>55.0</td>\n",
              "      <td>0</td>\n",
              "      <td>Jakarta</td>\n",
              "      <td>1.0</td>\n",
              "      <td>Rabu</td>\n",
              "      <td>7.0</td>\n",
              "    </tr>\n",
              "    <tr>\n",
              "      <th>4</th>\n",
              "      <td>Wanita</td>\n",
              "      <td>38.0</td>\n",
              "      <td>20081967.0</td>\n",
              "      <td>42.0</td>\n",
              "      <td>1</td>\n",
              "      <td>Jakarta</td>\n",
              "      <td>2.0</td>\n",
              "      <td>Senin</td>\n",
              "      <td>8.0</td>\n",
              "    </tr>\n",
              "  </tbody>\n",
              "</table>\n",
              "</div>"
            ],
            "text/plain": [
              "  Jenis Kelamin  Umur  Pendapatan-per-bulan  skor-pengeluaran Menikah  \\\n",
              "0        Wanita  49.0            13114754.0              52.0       1   \n",
              "1        Wanita  32.0            33606557.0              86.0       1   \n",
              "2          Pria  51.0            15983606.0              41.0       1   \n",
              "3          Pria  19.0            12704918.0              55.0       0   \n",
              "4        Wanita  38.0            20081967.0              42.0       1   \n",
              "\n",
              "      Kota  Promo HariFav  FavFlavor  \n",
              "0  Jakarta    1.0   Sabtu        2.0  \n",
              "1    Depok    1.0  Minggu        6.0  \n",
              "2  Jakarta    2.0  Minggu        3.0  \n",
              "3  Jakarta    1.0    Rabu        7.0  \n",
              "4  Jakarta    2.0   Senin        8.0  "
            ]
          },
          "execution_count": 28,
          "metadata": {},
          "output_type": "execute_result"
        }
      ],
      "source": [
        "df.head()"
      ]
    },
    {
      "cell_type": "markdown",
      "id": "f3fc2dd7",
      "metadata": {
        "id": "f3fc2dd7"
      },
      "source": [
        "### Export Hasil Data Cleansing to csv file"
      ]
    },
    {
      "cell_type": "code",
      "execution_count": null,
      "id": "cf58b024",
      "metadata": {
        "id": "cf58b024"
      },
      "outputs": [],
      "source": [
        "df.to_csv(\"C://Users/USER/SEMESTER 7/Data Mining/Study Case 02 - Customer Segmentation/Data MixITUp Hasil Cleansing.csv\")"
      ]
    },
    {
      "cell_type": "markdown",
      "id": "93712b6b",
      "metadata": {
        "id": "93712b6b"
      },
      "source": [
        "Saran perbaikan data:\n",
        "Karena masih terdapat missing value, noise berupa kesalahan entry nama pada variabel \"Umur\". Maka langkah yang perlu dilakukan adalah untuk missing value pada data akan dihilangkan pada data, yaitu akan dilakukan handling missing value terhadap data \"Jenis Kelamin\" dengan melakukan drop data yang missing pada variabel \"Jenis Kelamin\" karena total data missingnya ada 4 dari 200 atau 2% sehingga tidak terlalu mempengaruhi secara signifikan terhadap data keseluruhan. Selain itu, akan dilakukan handling missing value terhadap data \"Promo\" dengan melakukan drop data yang missing pada variabel \"Promo\" karena total data missingnya ada 6 dari 200 atau 3% sehingga tidak terlalu mempengaruhi secara signifikan terhadap data keseluruhan. Untuk missing value pada variabel \"Menikah\" tidak kami lakukan handling missing value karena variabel tersebut tidak kami gunakan dalam melakukan analisis. \\\\."
      ]
    },
    {
      "cell_type": "markdown",
      "id": "1eeadd94",
      "metadata": {
        "id": "1eeadd94"
      },
      "source": [
        "# Terima kasih"
      ]
    }
  ],
  "metadata": {
    "kernelspec": {
      "display_name": "Python 3 (ipykernel)",
      "language": "python",
      "name": "python3"
    },
    "language_info": {
      "codemirror_mode": {
        "name": "ipython",
        "version": 3
      },
      "file_extension": ".py",
      "mimetype": "text/x-python",
      "name": "python",
      "nbconvert_exporter": "python",
      "pygments_lexer": "ipython3",
      "version": "3.9.12"
    },
    "colab": {
      "provenance": [],
      "include_colab_link": true
    }
  },
  "nbformat": 4,
  "nbformat_minor": 5
}